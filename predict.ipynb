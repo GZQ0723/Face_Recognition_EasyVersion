{
 "cells": [
  {
   "cell_type": "markdown",
   "metadata": {
    "toc": true
   },
   "source": [
    "<h1>Table of Contents<span class=\"tocSkip\"></span></h1>\n",
    "<div class=\"toc\"><ul class=\"toc-item\"></ul></div>"
   ]
  },
  {
   "cell_type": "code",
   "execution_count": 1,
   "metadata": {
    "ExecuteTime": {
     "end_time": "2019-03-13T15:59:40.443090Z",
     "start_time": "2019-03-13T15:59:36.979342Z"
    }
   },
   "outputs": [
    {
     "name": "stderr",
     "output_type": "stream",
     "text": [
      "D:\\soft\\Anaconda\\lib\\site-packages\\h5py\\__init__.py:36: FutureWarning: Conversion of the second argument of issubdtype from `float` to `np.floating` is deprecated. In future, it will be treated as `np.float64 == np.dtype(float).type`.\n",
      "  from ._conv import register_converters as _register_converters\n",
      "Using TensorFlow backend.\n"
     ]
    }
   ],
   "source": [
    "from keras.models import load_model\n",
    "from keras.preprocessing.image import img_to_array,load_img\n",
    "import numpy as np\n",
    "import os"
   ]
  },
  {
   "cell_type": "code",
   "execution_count": 3,
   "metadata": {
    "ExecuteTime": {
     "end_time": "2019-03-13T16:00:23.286160Z",
     "start_time": "2019-03-13T16:00:20.980327Z"
    }
   },
   "outputs": [],
   "source": [
    "# 载入模型\n",
    "model = load_model('face.h5')"
   ]
  },
  {
   "cell_type": "code",
   "execution_count": 4,
   "metadata": {
    "ExecuteTime": {
     "end_time": "2019-03-13T16:00:33.035129Z",
     "start_time": "2019-03-13T16:00:33.030142Z"
    }
   },
   "outputs": [],
   "source": [
    "label = np.array(['科比','詹姆斯'])"
   ]
  },
  {
   "cell_type": "code",
   "execution_count": 5,
   "metadata": {
    "ExecuteTime": {
     "end_time": "2019-03-13T16:00:38.690767Z",
     "start_time": "2019-03-13T16:00:38.684781Z"
    }
   },
   "outputs": [],
   "source": [
    "def image_change(image):\n",
    "    image = image.resize((224,224))\n",
    "    image = img_to_array(image)\n",
    "    image = image/255\n",
    "    image = np.expand_dims(image,0)\n",
    "    return image"
   ]
  },
  {
   "cell_type": "code",
   "execution_count": 8,
   "metadata": {
    "ExecuteTime": {
     "end_time": "2019-03-13T16:02:43.058808Z",
     "start_time": "2019-03-13T16:02:42.594052Z"
    }
   },
   "outputs": [
    {
     "name": "stdout",
     "output_type": "stream",
     "text": [
      "图片真实分类为 test1.jpg\n",
      "预测结果为 ['詹姆斯']\n",
      "----------------------------------\n",
      "图片真实分类为 test2.jpg\n",
      "预测结果为 ['詹姆斯']\n",
      "----------------------------------\n",
      "图片真实分类为 test3.jpg\n",
      "预测结果为 ['科比']\n",
      "----------------------------------\n",
      "图片真实分类为 test4.jpg\n",
      "预测结果为 ['科比']\n",
      "----------------------------------\n"
     ]
    }
   ],
   "source": [
    "for pic in os.listdir('./predict'):\n",
    "    print('图片真实分类为',pic)\n",
    "    image = load_img('./predict/' + pic)\n",
    "    image = image_change(image)\n",
    "    print('预测结果为',label[model.predict_classes(image)])\n",
    "    print('----------------------------------')"
   ]
  },
  {
   "cell_type": "code",
   "execution_count": null,
   "metadata": {},
   "outputs": [],
   "source": []
  }
 ],
 "metadata": {
  "kernelspec": {
   "display_name": "Python 3",
   "language": "python",
   "name": "python3"
  },
  "language_info": {
   "codemirror_mode": {
    "name": "ipython",
    "version": 3
   },
   "file_extension": ".py",
   "mimetype": "text/x-python",
   "name": "python",
   "nbconvert_exporter": "python",
   "pygments_lexer": "ipython3",
   "version": "3.6.5"
  },
  "toc": {
   "base_numbering": 1,
   "nav_menu": {},
   "number_sections": true,
   "sideBar": true,
   "skip_h1_title": false,
   "title_cell": "Table of Contents",
   "title_sidebar": "Contents",
   "toc_cell": true,
   "toc_position": {},
   "toc_section_display": true,
   "toc_window_display": false
  }
 },
 "nbformat": 4,
 "nbformat_minor": 2
}

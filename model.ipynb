{
 "cells": [
  {
   "cell_type": "markdown",
   "metadata": {
    "toc": true
   },
   "source": [
    "<h1>Table of Contents<span class=\"tocSkip\"></span></h1>\n",
    "<div class=\"toc\"><ul class=\"toc-item\"><li><span><a href=\"#导入相关库\" data-toc-modified-id=\"导入相关库-1\"><span class=\"toc-item-num\">1&nbsp;&nbsp;</span>导入相关库</a></span></li><li><span><a href=\"#基础设置\" data-toc-modified-id=\"基础设置-2\"><span class=\"toc-item-num\">2&nbsp;&nbsp;</span>基础设置</a></span></li><li><span><a href=\"#预处理\" data-toc-modified-id=\"预处理-3\"><span class=\"toc-item-num\">3&nbsp;&nbsp;</span>预处理</a></span></li><li><span><a href=\"#设置训练集&amp;测试集迭代器\" data-toc-modified-id=\"设置训练集&amp;测试集迭代器-4\"><span class=\"toc-item-num\">4&nbsp;&nbsp;</span>设置训练集&amp;测试集迭代器</a></span></li><li><span><a href=\"#训练\" data-toc-modified-id=\"训练-5\"><span class=\"toc-item-num\">5&nbsp;&nbsp;</span>训练</a></span></li><li><span><a href=\"#保存模型\" data-toc-modified-id=\"保存模型-6\"><span class=\"toc-item-num\">6&nbsp;&nbsp;</span>保存模型</a></span></li></ul></div>"
   ]
  },
  {
   "cell_type": "markdown",
   "metadata": {},
   "source": [
    "# 导入相关库"
   ]
  },
  {
   "cell_type": "code",
   "execution_count": 3,
   "metadata": {
    "ExecuteTime": {
     "end_time": "2019-03-13T15:53:58.195643Z",
     "start_time": "2019-03-13T15:53:54.909138Z"
    }
   },
   "outputs": [
    {
     "name": "stderr",
     "output_type": "stream",
     "text": [
      "D:\\soft\\Anaconda\\lib\\site-packages\\h5py\\__init__.py:36: FutureWarning: Conversion of the second argument of issubdtype from `float` to `np.floating` is deprecated. In future, it will be treated as `np.float64 == np.dtype(float).type`.\n",
      "  from ._conv import register_converters as _register_converters\n",
      "Using TensorFlow backend.\n"
     ]
    }
   ],
   "source": [
    "from keras.models import Sequential\n",
    "from keras.layers import Conv2D,MaxPool2D,Activation,Dropout,Flatten,Dense\n",
    "from keras.optimizers import Adam\n",
    "from keras.preprocessing.image import ImageDataGenerator,img_to_array,load_img\n",
    "from keras.models import load_model"
   ]
  },
  {
   "cell_type": "markdown",
   "metadata": {},
   "source": [
    "# 基础设置"
   ]
  },
  {
   "cell_type": "code",
   "execution_count": 11,
   "metadata": {
    "ExecuteTime": {
     "end_time": "2019-03-13T15:54:34.713283Z",
     "start_time": "2019-03-13T15:54:34.708296Z"
    }
   },
   "outputs": [],
   "source": [
    "IMG_W = 224 #定义裁剪的图片宽度\n",
    "IMG_H = 224 #定义裁剪的图片高度\n",
    "CLASS = 2 #图片的分类数\n",
    "EPOCHS = 50 #迭代周期\n",
    "BATCH_SIZE = 64 #批次大小\n",
    "LEARNING_RATE = 1e-4 #学习率\n",
    "DROPOUT_RATE = 0 #抗拟合，不工作的神经网络百分比"
   ]
  },
  {
   "cell_type": "code",
   "execution_count": 5,
   "metadata": {
    "ExecuteTime": {
     "end_time": "2019-03-13T15:53:59.698733Z",
     "start_time": "2019-03-13T15:53:59.694781Z"
    }
   },
   "outputs": [],
   "source": [
    "TRAIN_PATH = 'train' #训练集存放路径\n",
    "TEST_PATH = 'test' #测试集存放路径\n",
    "SAVE_PATH = 'Model' #模型保存路径"
   ]
  },
  {
   "cell_type": "markdown",
   "metadata": {},
   "source": [
    "# 预处理"
   ]
  },
  {
   "cell_type": "code",
   "execution_count": 6,
   "metadata": {
    "ExecuteTime": {
     "end_time": "2019-03-13T15:54:00.648860Z",
     "start_time": "2019-03-13T15:54:00.629873Z"
    }
   },
   "outputs": [],
   "source": [
    "train_datagen = ImageDataGenerator(\n",
    "    rotation_range = 40,     # 随机旋转度数\n",
    "    width_shift_range = 0.2, # 随机水平平移\n",
    "    height_shift_range = 0.2,# 随机竖直平移\n",
    "    rescale = 1/255,         # 数据归一化\n",
    "    shear_range = 20,       # 随机错切变换\n",
    "    zoom_range = 0.2,        # 随机放大\n",
    "    horizontal_flip = True,  # 水平翻转\n",
    "    fill_mode = 'nearest',   # 填充方式\n",
    ")\n",
    "test_datagen = ImageDataGenerator(\n",
    "    rescale = 1/255,         # 数据归一化\n",
    ")\n",
    "\n",
    "model = Sequential() #创建一个神经网络对象"
   ]
  },
  {
   "cell_type": "code",
   "execution_count": 7,
   "metadata": {
    "ExecuteTime": {
     "end_time": "2019-03-13T15:54:01.445311Z",
     "start_time": "2019-03-13T15:54:01.261416Z"
    }
   },
   "outputs": [],
   "source": [
    "#添加一个卷积层，传入固定宽高三通道的图片，以32种不同的卷积核构建32张特征图，\n",
    "# 卷积核大小为3*3，构建特征图比例和原图相同，激活函数为relu函数。\n",
    "model.add(Conv2D(input_shape=(IMG_W,IMG_H,3),filters=32,kernel_size=3,padding='same',activation='relu'))\n",
    "#再次构建一个卷积层\n",
    "model.add(Conv2D(filters=32,kernel_size=3,padding='same',activation='relu'))\n",
    "#构建一个池化层，提取特征，池化层的池化窗口为2*2，步长为2。\n",
    "model.add(MaxPool2D(pool_size=2,strides=2))\n",
    "#继续构建卷积层和池化层，区别是卷积核数量为64。\n",
    "model.add(Conv2D(filters=64,kernel_size=3,padding='same',activation='relu'))\n",
    "model.add(Conv2D(filters=64,kernel_size=3,padding='same',activation='relu'))\n",
    "model.add(MaxPool2D(pool_size=2,strides=2))\n",
    "#继续构建卷积层和池化层，区别是卷积核数量为128。\n",
    "model.add(Conv2D(filters=128,kernel_size=3,padding='same',activation='relu'))\n",
    "model.add(Conv2D(filters=128,kernel_size=3,padding='same',activation='relu'))\n",
    "model.add(MaxPool2D(pool_size=2, strides=2))\n",
    "\n",
    "model.add(Flatten()) #数据扁平化\n",
    "model.add(Dense(128,activation='relu')) #构建一个具有128个神经元的全连接层\n",
    "model.add(Dense(64,activation='relu')) #构建一个具有64个神经元的全连接层\n",
    "model.add(Dropout(DROPOUT_RATE)) #加入dropout，防止过拟合。\n",
    "model.add(Dense(CLASS,activation='softmax')) #输出层，一共14个神经元，对应14个分类\n",
    "\n",
    "adam = Adam(lr=LEARNING_RATE) #创建Adam优化器\n",
    "\n",
    "model.compile(optimizer=adam,loss='categorical_crossentropy',metrics=['accuracy']) #使用交叉熵代价函数，adam优化器优化模型，并提取准确率"
   ]
  },
  {
   "cell_type": "markdown",
   "metadata": {},
   "source": [
    "# 设置训练集&测试集迭代器"
   ]
  },
  {
   "cell_type": "code",
   "execution_count": 8,
   "metadata": {
    "ExecuteTime": {
     "end_time": "2019-03-13T15:54:02.058287Z",
     "start_time": "2019-03-13T15:54:01.840867Z"
    }
   },
   "outputs": [
    {
     "name": "stdout",
     "output_type": "stream",
     "text": [
      "Found 12 images belonging to 2 classes.\n",
      "Found 8 images belonging to 2 classes.\n",
      "{'科比': 0, '詹姆斯': 1}\n"
     ]
    }
   ],
   "source": [
    "train_generator = train_datagen.flow_from_directory( #设置训练集迭代器\n",
    "    TRAIN_PATH, #训练集存放路径\n",
    "    target_size=(IMG_W,IMG_H), #训练集图片尺寸\n",
    "    batch_size=BATCH_SIZE #训练集批次\n",
    "    )\n",
    "\n",
    "test_generator = test_datagen.flow_from_directory( #设置测试集迭代器\n",
    "    TEST_PATH, #测试集存放路径\n",
    "    target_size=(IMG_W,IMG_H), #测试集图片尺寸\n",
    "    batch_size=BATCH_SIZE, #测试集批次\n",
    "    )\n",
    "\n",
    "print(train_generator.class_indices) #打印迭代器分类"
   ]
  },
  {
   "cell_type": "code",
   "execution_count": 9,
   "metadata": {
    "ExecuteTime": {
     "end_time": "2019-03-13T15:54:03.084304Z",
     "start_time": "2019-03-13T15:54:03.079318Z"
    }
   },
   "outputs": [
    {
     "name": "stdout",
     "output_type": "stream",
     "text": [
      "not find model,start training\n"
     ]
    }
   ],
   "source": [
    "try:\n",
    "    model = load_model('{}.h5'.format(SAVE_PATH))  #尝试读取训练好的模型，再次训练\n",
    "    print('model upload,start training!')\n",
    "except:\n",
    "    print('not find model,start training') #如果没有训练过的模型，则从头开始训练"
   ]
  },
  {
   "cell_type": "markdown",
   "metadata": {},
   "source": [
    "# 训练"
   ]
  },
  {
   "cell_type": "code",
   "execution_count": 12,
   "metadata": {
    "ExecuteTime": {
     "end_time": "2019-03-13T15:58:37.060228Z",
     "start_time": "2019-03-13T15:54:37.451845Z"
    }
   },
   "outputs": [
    {
     "name": "stdout",
     "output_type": "stream",
     "text": [
      "Epoch 1/50\n",
      "1/1 [==============================] - 5s 5s/step - loss: 0.6793 - acc: 0.5833 - val_loss: 0.6884 - val_acc: 0.5000\n",
      "Epoch 2/50\n",
      "1/1 [==============================] - 4s 4s/step - loss: 0.7397 - acc: 0.4167 - val_loss: 0.6932 - val_acc: 0.5000\n",
      "Epoch 3/50\n",
      "1/1 [==============================] - 4s 4s/step - loss: 0.6818 - acc: 0.5833 - val_loss: 0.6829 - val_acc: 0.3750\n",
      "Epoch 4/50\n",
      "1/1 [==============================] - 5s 5s/step - loss: 0.6839 - acc: 0.5833 - val_loss: 0.6811 - val_acc: 0.6250\n",
      "Epoch 5/50\n",
      "1/1 [==============================] - 6s 6s/step - loss: 0.6106 - acc: 0.6667 - val_loss: 0.6805 - val_acc: 0.6250\n",
      "Epoch 6/50\n",
      "1/1 [==============================] - 5s 5s/step - loss: 0.6276 - acc: 0.5833 - val_loss: 0.6762 - val_acc: 0.6250\n",
      "Epoch 7/50\n",
      "1/1 [==============================] - 5s 5s/step - loss: 0.6105 - acc: 0.7500 - val_loss: 0.6745 - val_acc: 0.6250\n",
      "Epoch 8/50\n",
      "1/1 [==============================] - 5s 5s/step - loss: 0.5743 - acc: 0.7500 - val_loss: 0.6801 - val_acc: 0.6250\n",
      "Epoch 9/50\n",
      "1/1 [==============================] - 5s 5s/step - loss: 0.6316 - acc: 0.7500 - val_loss: 0.6761 - val_acc: 0.6250\n",
      "Epoch 10/50\n",
      "1/1 [==============================] - 5s 5s/step - loss: 0.5756 - acc: 0.7500 - val_loss: 0.6721 - val_acc: 0.6250\n",
      "Epoch 11/50\n",
      "1/1 [==============================] - 5s 5s/step - loss: 0.4995 - acc: 0.9167 - val_loss: 0.6604 - val_acc: 0.7500\n",
      "Epoch 12/50\n",
      "1/1 [==============================] - 5s 5s/step - loss: 0.4754 - acc: 0.7500 - val_loss: 0.6614 - val_acc: 0.6250\n",
      "Epoch 13/50\n",
      "1/1 [==============================] - 5s 5s/step - loss: 0.5277 - acc: 0.8333 - val_loss: 0.6740 - val_acc: 0.6250\n",
      "Epoch 14/50\n",
      "1/1 [==============================] - 5s 5s/step - loss: 0.4411 - acc: 1.0000 - val_loss: 0.7055 - val_acc: 0.6250\n",
      "Epoch 15/50\n",
      "1/1 [==============================] - 5s 5s/step - loss: 0.4275 - acc: 0.9167 - val_loss: 0.7412 - val_acc: 0.3750\n",
      "Epoch 16/50\n",
      "1/1 [==============================] - 5s 5s/step - loss: 0.4535 - acc: 0.7500 - val_loss: 0.6894 - val_acc: 0.6250\n",
      "Epoch 17/50\n",
      "1/1 [==============================] - 5s 5s/step - loss: 0.4518 - acc: 0.9167 - val_loss: 0.6968 - val_acc: 0.6250\n",
      "Epoch 18/50\n",
      "1/1 [==============================] - 5s 5s/step - loss: 0.2927 - acc: 1.0000 - val_loss: 0.7015 - val_acc: 0.6250\n",
      "Epoch 19/50\n",
      "1/1 [==============================] - 5s 5s/step - loss: 0.4310 - acc: 0.8333 - val_loss: 0.8255 - val_acc: 0.5000\n",
      "Epoch 20/50\n",
      "1/1 [==============================] - 5s 5s/step - loss: 0.2649 - acc: 0.9167 - val_loss: 0.8537 - val_acc: 0.5000\n",
      "Epoch 21/50\n",
      "1/1 [==============================] - 5s 5s/step - loss: 0.2867 - acc: 0.9167 - val_loss: 0.7389 - val_acc: 0.6250\n",
      "Epoch 22/50\n",
      "1/1 [==============================] - 5s 5s/step - loss: 0.2763 - acc: 0.8333 - val_loss: 0.7521 - val_acc: 0.6250\n",
      "Epoch 23/50\n",
      "1/1 [==============================] - 5s 5s/step - loss: 0.3605 - acc: 0.8333 - val_loss: 0.7730 - val_acc: 0.6250\n",
      "Epoch 24/50\n",
      "1/1 [==============================] - 5s 5s/step - loss: 0.3458 - acc: 0.9167 - val_loss: 0.8427 - val_acc: 0.6250\n",
      "Epoch 25/50\n",
      "1/1 [==============================] - 5s 5s/step - loss: 0.2483 - acc: 0.9167 - val_loss: 1.1525 - val_acc: 0.5000\n",
      "Epoch 26/50\n",
      "1/1 [==============================] - 5s 5s/step - loss: 0.4858 - acc: 0.7500 - val_loss: 1.2681 - val_acc: 0.5000\n",
      "Epoch 27/50\n",
      "1/1 [==============================] - 5s 5s/step - loss: 0.3100 - acc: 0.7500 - val_loss: 0.8637 - val_acc: 0.6250\n",
      "Epoch 28/50\n",
      "1/1 [==============================] - 5s 5s/step - loss: 0.3382 - acc: 0.9167 - val_loss: 1.0036 - val_acc: 0.5000\n",
      "Epoch 29/50\n",
      "1/1 [==============================] - 5s 5s/step - loss: 0.5840 - acc: 0.5833 - val_loss: 1.0751 - val_acc: 0.5000\n",
      "Epoch 30/50\n",
      "1/1 [==============================] - 5s 5s/step - loss: 0.3215 - acc: 0.9167 - val_loss: 0.9478 - val_acc: 0.7500\n",
      "Epoch 31/50\n",
      "1/1 [==============================] - 5s 5s/step - loss: 0.3396 - acc: 0.9167 - val_loss: 0.9606 - val_acc: 0.5000\n",
      "Epoch 32/50\n",
      "1/1 [==============================] - 5s 5s/step - loss: 0.3769 - acc: 0.9167 - val_loss: 1.4351 - val_acc: 0.5000\n",
      "Epoch 33/50\n",
      "1/1 [==============================] - 5s 5s/step - loss: 0.5202 - acc: 0.6667 - val_loss: 1.7937 - val_acc: 0.5000\n",
      "Epoch 34/50\n",
      "1/1 [==============================] - 5s 5s/step - loss: 0.7747 - acc: 0.6667 - val_loss: 1.4328 - val_acc: 0.5000\n",
      "Epoch 35/50\n",
      "1/1 [==============================] - 5s 5s/step - loss: 0.6707 - acc: 0.7500 - val_loss: 0.9344 - val_acc: 0.5000\n",
      "Epoch 36/50\n",
      "1/1 [==============================] - 5s 5s/step - loss: 0.2612 - acc: 1.0000 - val_loss: 0.8750 - val_acc: 0.7500\n",
      "Epoch 37/50\n",
      "1/1 [==============================] - 5s 5s/step - loss: 0.3115 - acc: 0.8333 - val_loss: 0.9795 - val_acc: 0.6250\n",
      "Epoch 38/50\n",
      "1/1 [==============================] - 5s 5s/step - loss: 0.3600 - acc: 0.8333 - val_loss: 1.0386 - val_acc: 0.5000\n",
      "Epoch 39/50\n",
      "1/1 [==============================] - 5s 5s/step - loss: 0.2976 - acc: 0.9167 - val_loss: 0.9933 - val_acc: 0.5000\n",
      "Epoch 40/50\n",
      "1/1 [==============================] - 5s 5s/step - loss: 0.3509 - acc: 0.7500 - val_loss: 0.8701 - val_acc: 0.7500\n",
      "Epoch 41/50\n",
      "1/1 [==============================] - 5s 5s/step - loss: 0.2239 - acc: 0.9167 - val_loss: 0.7706 - val_acc: 0.6250\n",
      "Epoch 42/50\n",
      "1/1 [==============================] - 5s 5s/step - loss: 0.3496 - acc: 0.9167 - val_loss: 0.8156 - val_acc: 0.6250\n",
      "Epoch 43/50\n",
      "1/1 [==============================] - 5s 5s/step - loss: 0.2685 - acc: 0.9167 - val_loss: 0.9655 - val_acc: 0.5000\n",
      "Epoch 44/50\n",
      "1/1 [==============================] - 5s 5s/step - loss: 0.3318 - acc: 0.9167 - val_loss: 1.0633 - val_acc: 0.5000\n",
      "Epoch 45/50\n",
      "1/1 [==============================] - 5s 5s/step - loss: 0.4435 - acc: 0.8333 - val_loss: 0.9740 - val_acc: 0.5000\n",
      "Epoch 46/50\n",
      "1/1 [==============================] - 5s 5s/step - loss: 0.4575 - acc: 0.7500 - val_loss: 0.8506 - val_acc: 0.6250\n",
      "Epoch 47/50\n",
      "1/1 [==============================] - 5s 5s/step - loss: 0.2947 - acc: 0.9167 - val_loss: 0.7642 - val_acc: 0.6250\n",
      "Epoch 48/50\n",
      "1/1 [==============================] - 5s 5s/step - loss: 0.3568 - acc: 0.8333 - val_loss: 0.7503 - val_acc: 0.6250\n",
      "Epoch 49/50\n",
      "1/1 [==============================] - 5s 5s/step - loss: 0.1786 - acc: 0.9167 - val_loss: 0.7841 - val_acc: 0.7500\n",
      "Epoch 50/50\n",
      "1/1 [==============================] - 5s 5s/step - loss: 0.3756 - acc: 0.7500 - val_loss: 0.7752 - val_acc: 0.7500\n"
     ]
    },
    {
     "data": {
      "text/plain": [
       "<keras.callbacks.History at 0x19295d13940>"
      ]
     },
     "execution_count": 12,
     "metadata": {},
     "output_type": "execute_result"
    }
   ],
   "source": [
    "model.fit_generator( #模型拟合\n",
    "                    train_generator,  #训练集迭代器\n",
    "                    steps_per_epoch=len(train_generator), #每个周期需要迭代多少步（图片总量/批次大小=11200/64=175）\n",
    "                    epochs=EPOCHS, #迭代周期\n",
    "                    validation_data=test_generator, #测试集迭代器\n",
    "                    validation_steps=len(test_generator) #测试集迭代多少步\n",
    "                    )"
   ]
  },
  {
   "cell_type": "markdown",
   "metadata": {},
   "source": [
    "# 保存模型"
   ]
  },
  {
   "cell_type": "code",
   "execution_count": 13,
   "metadata": {
    "ExecuteTime": {
     "end_time": "2019-03-13T16:00:16.544921Z",
     "start_time": "2019-03-13T16:00:15.073686Z"
    }
   },
   "outputs": [
    {
     "name": "stdout",
     "output_type": "stream",
     "text": [
      "finish 50 epochs!\n"
     ]
    }
   ],
   "source": [
    "model.save('face.h5'.format(SAVE_PATH)) #保存模型\n",
    "print('finish {} epochs!'.format(EPOCHS))"
   ]
  },
  {
   "cell_type": "code",
   "execution_count": null,
   "metadata": {},
   "outputs": [],
   "source": []
  }
 ],
 "metadata": {
  "kernelspec": {
   "display_name": "Python 3",
   "language": "python",
   "name": "python3"
  },
  "language_info": {
   "codemirror_mode": {
    "name": "ipython",
    "version": 3
   },
   "file_extension": ".py",
   "mimetype": "text/x-python",
   "name": "python",
   "nbconvert_exporter": "python",
   "pygments_lexer": "ipython3",
   "version": "3.6.5"
  },
  "toc": {
   "base_numbering": 1,
   "nav_menu": {},
   "number_sections": true,
   "sideBar": true,
   "skip_h1_title": false,
   "title_cell": "Table of Contents",
   "title_sidebar": "Contents",
   "toc_cell": true,
   "toc_position": {
    "height": "calc(100% - 180px)",
    "left": "10px",
    "top": "150px",
    "width": "165px"
   },
   "toc_section_display": true,
   "toc_window_display": true
  }
 },
 "nbformat": 4,
 "nbformat_minor": 2
}
